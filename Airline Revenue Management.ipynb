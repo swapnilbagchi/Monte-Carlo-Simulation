{
 "cells": [
  {
   "cell_type": "markdown",
   "id": "4e458e8b-db00-448a-8027-c65e9366d7c3",
   "metadata": {
    "tags": []
   },
   "source": [
    "# Monte Carlo Simulation: Airline Revenue Management\n",
    "#### The key objective of this simulation is to determine the optimal strategy for maximizing airline revenue through the combined use of overbooking and price discrimination techniques\n",
    "\n",
    "#### Key Assumptions: (to be written by Carter)"
   ]
  },
  {
   "cell_type": "code",
   "execution_count": 1,
   "id": "d68d7a5c-850f-4f1c-8e22-fc71f86d8e67",
   "metadata": {},
   "outputs": [],
   "source": [
    "#Key assumptions for the model:\n",
    "#1: business passengers do not volunteer to deboard the flight in the event of overbooking\n",
    "#2: business passenger revenue is \"collected\" after the passengers show up (i.e. full refund for passengers who don't show up)\n",
    "#3: leisure passengers who volunteer to deboard are placed on a flight two hours later that has the capacity (ie revenue loss isn't simply pushed forward to the next flight)\n",
    "#4: 10,000 replications are sufficient to eliminate variance in the results of the optimization simulation"
   ]
  },
  {
   "cell_type": "markdown",
   "id": "71d7ac5f-9078-429b-9156-b173cd215e7e",
   "metadata": {
    "tags": []
   },
   "source": [
    "### Import the Libraries"
   ]
  },
  {
   "cell_type": "code",
   "execution_count": 34,
   "id": "ac946e2f-34d4-43fc-898c-95fe8784f290",
   "metadata": {
    "tags": []
   },
   "outputs": [],
   "source": [
    "import numpy as np\n",
    "import math as math\n",
    "import scipy.stats as stats"
   ]
  },
  {
   "cell_type": "markdown",
   "id": "f89a2818-062c-46a5-9f91-bbdd947bdcd4",
   "metadata": {},
   "source": [
    "### Set the Model Parameters"
   ]
  },
  {
   "cell_type": "code",
   "execution_count": 35,
   "id": "faba9e0c-bb9d-4cbe-9ab7-7f69342165a5",
   "metadata": {
    "tags": []
   },
   "outputs": [],
   "source": [
    "number_of_seats = 150\n",
    "\n",
    "leisure_fare = 500\n",
    "leisure_no_show_prob = 0.05\n",
    "leisure_chance_volunteer = 0.02\n",
    "\n",
    "business_fare = 1500\n",
    "business_no_show_prob = 0.15\n",
    "\n",
    "vol_cost = 800\n",
    "invol_cost = 2000\n",
    "num_replications = 10000\n",
    "np.random.seed(2)"
   ]
  },
  {
   "cell_type": "markdown",
   "id": "f2793327-a2fc-495f-bca2-f399eafa6763",
   "metadata": {},
   "source": [
    "### Initialize lists to store results"
   ]
  },
  {
   "cell_type": "code",
   "execution_count": 36,
   "id": "043ee6c1-6b42-4ecb-9cda-ca65409dad3d",
   "metadata": {},
   "outputs": [],
   "source": [
    "avg_profit_list = []\n",
    "\n",
    "tickets_sold_list = []\n",
    "leisure_tickets_list = []\n",
    "business_tickets_list = []\n",
    "\n",
    "typical_leisure_pass_list = []\n",
    "typical_business_pass_list = []\n",
    "\n",
    "lower_95_CI_list = []\n",
    "upper_95_CI_list = []"
   ]
  },
  {
   "cell_type": "markdown",
   "id": "013f1d10-0e1d-4f43-a892-c6dd49b2f46a",
   "metadata": {},
   "source": [
    "### Define ticket search ranges and step"
   ]
  },
  {
   "cell_type": "code",
   "execution_count": 37,
   "id": "cd871595-3132-4784-953d-474d34a64590",
   "metadata": {},
   "outputs": [],
   "source": [
    "#leisure ticket search range\n",
    "lower_leisure_search_limit = 135\n",
    "upper_leisure_search_limit = 200\n",
    "\n",
    "#business ticket search range\n",
    "lower_business_search_limit=10\n",
    "upper_business_search_limit=25\n",
    "\n",
    "#search step\n",
    "search_step = 1"
   ]
  },
  {
   "cell_type": "markdown",
   "id": "37e22fa2-7a12-4b48-85f0-27ac4cbbc9e2",
   "metadata": {},
   "source": [
    "### Monte Carlo Simulation Loops for the Optiminal number of Tickets Sold"
   ]
  },
  {
   "cell_type": "code",
   "execution_count": 6,
   "id": "95f46df7-6b7a-4c5d-bf1e-3fc38e6ba67d",
   "metadata": {
    "tags": []
   },
   "outputs": [],
   "source": [
    "for leisure_sold in range(lower_leisure_search_limit, upper_leisure_search_limit + 1, search_step):\n",
    "    for business_sold in range(lower_business_search_limit, upper_business_search_limit + 1, search_step):\n",
    "        \n",
    "        #define empty lists to collect average number of passengers that show up by type\n",
    "        total_sold = leisure_sold + business_sold\n",
    "        \n",
    "        profit_list = []\n",
    "        leisure_pass_list = []\n",
    "        business_pass_list = []      \n",
    "        \n",
    "        for i in range(num_replications):\n",
    "            #demand simulation\n",
    "            leisure_demand = round(np.random.normal(200,20)) #leisure demand is normally distributed and rounded to the nearest integer\n",
    "            business_demand = round(np.random.normal(15,3)) #leisure demand is normally distributed and rounded to the nearest integer\n",
    "            \n",
    "            #sales\n",
    "            leisure_sales = max(min(leisure_sold, leisure_demand),0) #leisure sales is min of leisure tix sold and demand, > zero       \n",
    "            business_sales = max(min(business_sold, business_demand),0) #business sales is min of business tix sold and demand, > zero\n",
    "                    \n",
    "            #number of people who show up for flight\n",
    "            leisure_show = np.random.binomial(leisure_sales, 1-leisure_no_show_prob) #binomial distribution of leisure passengers that show up\n",
    "            business_show = np.random.binomial(business_sales, 1-business_no_show_prob) #binomial distribution of business passengers that show up\n",
    "            total_show = leisure_show + business_show\n",
    "            \n",
    "            #determine voluntary and involuntary removals\n",
    "            volunteers = np.random.binomial(leisure_show, leisure_chance_volunteer) #assume only leisure passengers volunteer       \n",
    "            num_to_remove = max(total_show - number_of_seats, 0) #total people who show up minus number of seats on plane, >= zero\n",
    "            vol_removals = min(num_to_remove, volunteers) \n",
    "            invol_removals = num_to_remove - vol_removals\n",
    "            \n",
    "            #profits\n",
    "            leisure_rev = leisure_sales*leisure_fare #revenue from leisure is number of tickets sold * leisure fare\n",
    "            business_rev = business_show*business_fare #revenue from business is number of passengers who show up for flight (ie no-shows are refunded) * business fare\n",
    "            revenue = leisure_rev + business_rev\n",
    "            costs = vol_removals*vol_cost + invol_removals*invol_cost\n",
    "            profits = revenue - costs\n",
    "\n",
    "            # append the calculated profits/passenger list for this replication to the list created earlier\n",
    "            profit_list.append(profits)\n",
    "            leisure_pass_list.append(leisure_show)\n",
    "            business_pass_list.append(business_show)\n",
    "\n",
    "        # Calculate average profit, mode value for leisure passengers/business passengers that show up, and confidence intervals\n",
    "        avg_profit = np.mean(profit_list)\n",
    "        leisure_mode_result = stats.mode(leisure_pass_list)\n",
    "        business_mode_result = stats.mode(business_pass_list)\n",
    "        \n",
    "        mode_leisure = leisure_mode_result.mode\n",
    "        mode_business = business_mode_result.mode\n",
    "        \n",
    "        std_dev = np.std(profit_list)\n",
    "        lower_95_CI = avg_profit - 1.96 * (std_dev / np.sqrt(num_replications))\n",
    "        upper_95_CI = avg_profit + 1.96 * (std_dev / np.sqrt(num_replications))\n",
    "        \n",
    "        # Append the results to corresponding lists\n",
    "        avg_profit_list.append(avg_profit)\n",
    "        tickets_sold_list.append(total_sold)\n",
    "        leisure_tickets_list.append(leisure_sold)\n",
    "        business_tickets_list.append(business_sold)\n",
    "        \n",
    "        typical_leisure_pass_list.append(mode_leisure)\n",
    "        typical_business_pass_list.append(mode_business)\n",
    "        \n",
    "        lower_95_CI_list.append(lower_95_CI)\n",
    "        upper_95_CI_list.append(upper_95_CI)\n",
    "\n",
    "#collect index of highest profit in simulation\n",
    "max_profit_index = np.argmax(avg_profit_list)\n",
    "\n",
    "#recall optimal total tickets, leisure tickets, and business tickets that correspond to the max profit value\n",
    "optimal_total_tickets = tickets_sold_list[max_profit_index]\n",
    "optimal_leisure_tickets = leisure_tickets_list[max_profit_index]\n",
    "optimal_business_tickets = business_tickets_list[max_profit_index]\n",
    "\n",
    "#recall most frequent number of leisure and business passengers that arrive based on correpsonding max profit value\n",
    "typ_leisure_passengers = typical_leisure_pass_list[max_profit_index]\n",
    "typ_business_passengers = typical_business_pass_list[max_profit_index]\n",
    "\n",
    "#recall average profit that corresponds to the max profit value\n",
    "optimal_avg_profit = avg_profit_list[max_profit_index]\n",
    "optimal_lower_95_CI = lower_95_CI_list[max_profit_index]\n",
    "optimal_upper_95_CI = upper_95_CI_list[max_profit_index]"
   ]
  },
  {
   "cell_type": "markdown",
   "id": "a00102c4-21bd-418f-9766-389739eddb2c",
   "metadata": {},
   "source": [
    "### Print the final results"
   ]
  },
  {
   "cell_type": "code",
   "execution_count": 7,
   "id": "18028b16-3665-4822-95b0-951139b6b2e4",
   "metadata": {},
   "outputs": [
    {
     "name": "stdout",
     "output_type": "stream",
     "text": [
      "Number of simulations: 10000\n",
      "Optimal total tickets to sell: 167\n",
      "Optimal leisure tickets to sell: 144\n",
      "Optimal business tickets to sell: 23\n",
      "Typical number of leisure passengers that arrive: 137\n",
      "Typical number of business passengers that arrive: 13\n",
      "Optimal average profit: $89499.01\n",
      "95% Confidence Interval: [89429.85271713171, 89568.16728286828]\n"
     ]
    }
   ],
   "source": [
    "print(f\"Number of simulations: {num_replications}\")\n",
    "print(f\"Optimal total tickets to sell: {optimal_total_tickets}\")\n",
    "print(f\"Optimal leisure tickets to sell: {optimal_leisure_tickets}\")\n",
    "print(f\"Optimal business tickets to sell: {optimal_business_tickets}\")\n",
    "print(f\"Typical number of leisure passengers that arrive: {typ_leisure_passengers}\")\n",
    "print(f\"Typical number of business passengers that arrive: {typ_business_passengers}\")\n",
    "print(f\"Optimal average profit: ${optimal_avg_profit}\")\n",
    "print(f\"95% Confidence Interval: [{optimal_lower_95_CI}, {optimal_upper_95_CI}]\") "
   ]
  },
  {
   "cell_type": "markdown",
   "id": "8861d9b0-c371-464e-b6f9-f6df4bc83839",
   "metadata": {},
   "source": [
    "#### Thank you\n",
    "#### Group 4: Alankrita Sinha, Carter Tate, Dieu Linh Dao, Swapnil Bagchi "
   ]
  },
  {
   "cell_type": "markdown",
   "id": "f2db31ca-86c2-4638-bb2d-a641f5cea144",
   "metadata": {},
   "source": [
    "# Part B Lever 1"
   ]
  },
  {
   "cell_type": "code",
   "execution_count": 39,
   "id": "5b54f8aa-17c4-4fc8-be11-3fac9b3d11b5",
   "metadata": {},
   "outputs": [
    {
     "name": "stdout",
     "output_type": "stream",
     "text": [
      "Lever 1 - Overbooking Without Fare Type Control\n",
      "Number of simulations: 10000\n",
      "Optimal total tickets to sell: 170\n",
      "Optimal leisure tickets to sell: 85\n",
      "Optimal business tickets to sell: 85\n",
      "Typical number of leisure passengers that arrive: 81\n",
      "Typical number of business passengers that arrive: 13\n",
      "Optimal average profit: $61681.25\n",
      "95% Confidence Interval: [61595.11, 61767.39]\n"
     ]
    }
   ],
   "source": [
    "# Lever 1 - Overbooking without Fare Type Control\n",
    "number_of_seats = 150\n",
    "overbooking_limit = 170  # Example overbooking limit\n",
    "\n",
    "for total_sold in range(number_of_seats, overbooking_limit + 1, search_step):\n",
    "    leisure_sold = total_sold // 2  # Approximate 50-50 split\n",
    "    business_sold = total_sold - leisure_sold\n",
    "    \n",
    "    profit_list = []\n",
    "    leisure_pass_list = []\n",
    "    business_pass_list = []      \n",
    "    \n",
    "    for i in range(num_replications):\n",
    "        leisure_demand = round(np.random.normal(200, 20))\n",
    "        business_demand = round(np.random.normal(15, 3))\n",
    "        \n",
    "        leisure_sales = max(min(leisure_sold, leisure_demand), 0)\n",
    "        business_sales = max(min(business_sold, business_demand), 0)\n",
    "                \n",
    "        leisure_show = np.random.binomial(leisure_sales, 1 - leisure_no_show_prob)\n",
    "        business_show = np.random.binomial(business_sales, 1 - business_no_show_prob)\n",
    "        total_show = leisure_show + business_show\n",
    "        \n",
    "        volunteers = np.random.binomial(leisure_show, leisure_chance_volunteer)\n",
    "        num_to_remove = max(total_show - number_of_seats, 0)\n",
    "        vol_removals = min(num_to_remove, volunteers) \n",
    "        invol_removals = num_to_remove - vol_removals\n",
    "        \n",
    "        leisure_rev = leisure_sales * leisure_fare\n",
    "        business_rev = business_show * business_fare\n",
    "        revenue = leisure_rev + business_rev\n",
    "        costs = vol_removals * vol_cost + invol_removals * invol_cost\n",
    "        profits = revenue - costs\n",
    "\n",
    "        profit_list.append(profits)\n",
    "        leisure_pass_list.append(leisure_show)\n",
    "        business_pass_list.append(business_show)\n",
    "\n",
    "    avg_profit = np.mean(profit_list)\n",
    "    leisure_mode_result = stats.mode(leisure_pass_list)\n",
    "    business_mode_result = stats.mode(business_pass_list)\n",
    "\n",
    "    mode_leisure = leisure_mode_result.mode\n",
    "    mode_business = business_mode_result.mode\n",
    "    \n",
    "    std_dev = np.std(profit_list)\n",
    "    lower_95_CI = avg_profit - 1.96 * (std_dev / np.sqrt(num_replications))\n",
    "    upper_95_CI = avg_profit + 1.96 * (std_dev / np.sqrt(num_replications))\n",
    "    \n",
    "    avg_profit_list.append(avg_profit)\n",
    "    tickets_sold_list.append(total_sold)\n",
    "    typical_leisure_pass_list.append(mode_leisure)\n",
    "    typical_business_pass_list.append(mode_business)\n",
    "    lower_95_CI_list.append(lower_95_CI)\n",
    "    upper_95_CI_list.append(upper_95_CI)\n",
    "\n",
    "max_profit_index = np.argmax(avg_profit_list)\n",
    "print(\"Lever 1 - Overbooking Without Fare Type Control\")\n",
    "print(f\"Number of simulations: {num_replications}\")\n",
    "print(f\"Optimal total tickets to sell: {tickets_sold_list[max_profit_index]}\")\n",
    "print(f\"Optimal leisure tickets to sell: {tickets_sold_list[max_profit_index] // 2}\")\n",
    "print(f\"Optimal business tickets to sell: {tickets_sold_list[max_profit_index] - tickets_sold_list[max_profit_index] // 2}\")\n",
    "print(f\"Typical number of leisure passengers that arrive: {typical_leisure_pass_list[max_profit_index]}\")\n",
    "print(f\"Typical number of business passengers that arrive: {typical_business_pass_list[max_profit_index]}\")\n",
    "print(f\"Optimal average profit: ${avg_profit_list[max_profit_index]:.2f}\")\n",
    "print(f\"95% Confidence Interval: [{lower_95_CI_list[max_profit_index]:.2f}, {upper_95_CI_list[max_profit_index]:.2f}]\")\n"
   ]
  },
  {
   "cell_type": "code",
   "execution_count": 68,
   "id": "263482bf-f7fa-4f10-956d-6121fd5b24b3",
   "metadata": {},
   "outputs": [
    {
     "name": "stdout",
     "output_type": "stream",
     "text": [
      "Scenario 1 - Overbooking only:\n",
      "Best overbooking level: 159\n",
      "Best average profit: $86897.53\n"
     ]
    }
   ],
   "source": [
    "import numpy as np\n",
    "import scipy.stats as stats\n",
    "\n",
    "# Model parameters (same as before)\n",
    "number_of_seats = 150\n",
    "leisure_fare = 500\n",
    "leisure_no_show_prob = 0.05\n",
    "leisure_chance_volunteer = 0.02\n",
    "business_fare = 1500\n",
    "business_no_show_prob = 0.15\n",
    "vol_cost = 800\n",
    "invol_cost = 2000\n",
    "num_replications = 10000\n",
    "np.random.seed(2)\n",
    "\n",
    "# Search range for overbooking\n",
    "lower_overbooking_limit = 150\n",
    "upper_overbooking_limit = 200\n",
    "search_step = 1\n",
    "\n",
    "best_profit = float('-inf')\n",
    "best_overbooking = 0\n",
    "\n",
    "for total_tickets in range(lower_overbooking_limit, upper_overbooking_limit + 1, search_step):\n",
    "    profit_list = []\n",
    "    \n",
    "    for _ in range(num_replications):\n",
    "        leisure_demand = round(np.random.normal(200, 20))\n",
    "        business_demand = round(np.random.normal(15, 3))\n",
    "        \n",
    "        total_demand = leisure_demand + business_demand\n",
    "        total_sales = min(total_tickets, total_demand)\n",
    "        \n",
    "        # Allocate sales proportionally, ensuring non-negative values\n",
    "        if total_demand > 0:\n",
    "            leisure_sales = round(total_sales * (leisure_demand / total_demand))\n",
    "        else:\n",
    "            leisure_sales = 0\n",
    "        business_sales = total_sales - leisure_sales\n",
    "        \n",
    "        # Ensure non-negative values for both types of sales\n",
    "        leisure_sales = max(0, leisure_sales)\n",
    "        business_sales = max(0, business_sales)\n",
    "        \n",
    "        leisure_show = np.random.binomial(leisure_sales, 1-leisure_no_show_prob)\n",
    "        business_show = np.random.binomial(business_sales, 1-business_no_show_prob)\n",
    "        total_show = leisure_show + business_show\n",
    "        \n",
    "        volunteers = np.random.binomial(leisure_show, leisure_chance_volunteer)\n",
    "        num_to_remove = max(total_show - number_of_seats, 0)\n",
    "        vol_removals = min(num_to_remove, volunteers)\n",
    "        invol_removals = num_to_remove - vol_removals\n",
    "        \n",
    "        leisure_rev = leisure_sales * leisure_fare\n",
    "        business_rev = business_show * business_fare\n",
    "        revenue = leisure_rev + business_rev\n",
    "        costs = vol_removals * vol_cost + invol_removals * invol_cost\n",
    "        profit = revenue - costs\n",
    "        \n",
    "        profit_list.append(profit)\n",
    "    \n",
    "    avg_profit = np.mean(profit_list)\n",
    "    if avg_profit > best_profit:\n",
    "        best_profit = avg_profit\n",
    "        best_overbooking = total_tickets\n",
    "\n",
    "print(f\"Scenario 1 - Overbooking only:\")\n",
    "print(f\"Best overbooking level: {best_overbooking}\")\n",
    "print(f\"Best average profit: ${best_profit:.2f}\")"
   ]
  },
  {
   "cell_type": "markdown",
   "id": "1edd980f-4ce0-4c19-a81c-be35e1ccf215",
   "metadata": {},
   "source": [
    "# Part B- Lever 2"
   ]
  },
  {
   "cell_type": "code",
   "execution_count": 70,
   "id": "58192376-b406-44d2-9d3b-359b6a41fc4b",
   "metadata": {},
   "outputs": [
    {
     "name": "stdout",
     "output_type": "stream",
     "text": [
      "Scenario 2 - Booking limits only:\n",
      "Best leisure booking limit: 135\n",
      "Best average profit: $85147.75\n"
     ]
    }
   ],
   "source": [
    "import numpy as np\n",
    "import scipy.stats as stats\n",
    "\n",
    "# Model parameters (same as before)\n",
    "number_of_seats = 150\n",
    "leisure_fare = 500\n",
    "leisure_no_show_prob = 0.05\n",
    "leisure_chance_volunteer = 0.02\n",
    "business_fare = 1500\n",
    "business_no_show_prob = 0.15\n",
    "vol_cost = 800\n",
    "invol_cost = 2000\n",
    "num_replications = 10000\n",
    "np.random.seed(2)\n",
    "\n",
    "# Search range for booking limit\n",
    "lower_booking_limit = 125\n",
    "upper_booking_limit = 150\n",
    "search_step = 1\n",
    "\n",
    "best_profit = float('-inf')\n",
    "best_booking_limit = 0\n",
    "\n",
    "for leisure_limit in range(lower_booking_limit, upper_booking_limit + 1, search_step):\n",
    "    profit_list = []\n",
    "    \n",
    "    for _ in range(num_replications):\n",
    "        leisure_demand = round(np.random.normal(200, 20))\n",
    "        business_demand = round(np.random.normal(15, 3))\n",
    "        \n",
    "        leisure_sales = min(leisure_limit, leisure_demand)\n",
    "        business_sales = min(number_of_seats - leisure_sales, business_demand)\n",
    "        \n",
    "        leisure_show = np.random.binomial(leisure_sales, 1-leisure_no_show_prob)\n",
    "        business_show = np.random.binomial(business_sales, 1-business_no_show_prob)\n",
    "        \n",
    "        leisure_rev = leisure_sales * leisure_fare\n",
    "        business_rev = business_show * business_fare\n",
    "        revenue = leisure_rev + business_rev\n",
    "        profit = revenue\n",
    "        \n",
    "        profit_list.append(profit)\n",
    "    \n",
    "    avg_profit = np.mean(profit_list)\n",
    "    if avg_profit > best_profit:\n",
    "        best_profit = avg_profit\n",
    "        best_booking_limit = leisure_limit\n",
    "\n",
    "print(f\"Scenario 2 - Booking limits only:\")\n",
    "print(f\"Best leisure booking limit: {best_booking_limit}\")\n",
    "print(f\"Best average profit: ${best_profit:.2f}\")"
   ]
  },
  {
   "cell_type": "code",
   "execution_count": null,
   "id": "d7a438a3-9965-41b3-bf4f-45f4d0cb2440",
   "metadata": {},
   "outputs": [],
   "source": []
  }
 ],
 "metadata": {
  "kernelspec": {
   "display_name": "Python 3 (ipykernel)",
   "language": "python",
   "name": "python3"
  },
  "language_info": {
   "codemirror_mode": {
    "name": "ipython",
    "version": 3
   },
   "file_extension": ".py",
   "mimetype": "text/x-python",
   "name": "python",
   "nbconvert_exporter": "python",
   "pygments_lexer": "ipython3",
   "version": "3.12.5"
  }
 },
 "nbformat": 4,
 "nbformat_minor": 5
}
